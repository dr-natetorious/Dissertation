{
 "cells": [
  {
   "attachments": {},
   "cell_type": "markdown",
   "metadata": {},
   "source": [
    "# Snippets for interacting with Kinetics-700 data set.\n",
    "\n",
    "A collection of large-scale, high-quality datasets of URL links of up to 650,000 video clips that cover 400/600/700 human action classes, depending on the dataset version. The videos include human-object interactions such as playing instruments, as well as human-human interactions such as shaking hands and hugging. Each action class has at least 400/600/700 video clips. Each clip is human annotated with a single action class and lasts around 10 seconds.\n",
    "\n",
    "https://www.deepmind.com/open-source/kinetics\n",
    "\n",
    "You will need an API key for accessing the YouTube API. Save this as the local file `api_key.txt`\n",
    "\n",
    "https://developers.google.com/youtube/v3/getting-started"
   ]
  },
  {
   "cell_type": "code",
   "execution_count": 1,
   "metadata": {},
   "outputs": [],
   "source": [
    "import requests\n",
    "import os\n",
    "\n",
    "download_file = 'https://storage.googleapis.com/deepmind-media/Datasets/kinetics700_2020.tar.gz'\n",
    "local_file = os.path.join('data',os.path.basename(download_file))\n",
    "if not os.path.exists('data'):\n",
    "    os.mkdir('data')\n",
    "\n",
    "r = requests.get(download_file)\n",
    "with open(local_file, 'wb') as f:\n",
    "    f.write(r.content)\n",
    "\n",
    "import tarfile\n",
    "with tarfile.open(local_file) as f:\n",
    "    f.extractall('data')"
   ]
  },
  {
   "cell_type": "code",
   "execution_count": 11,
   "metadata": {},
   "outputs": [],
   "source": [
    "from json import loads\n",
    "\n",
    "def read_kinetics_json(name):\n",
    "    with open('data/kinetics700_2020/%s.json' % name, 'rt') as f:\n",
    "        return loads(f.read())\n",
    "\n",
    "test_json_file = read_kinetics_json('test')\n",
    "train_json_file = read_kinetics_json('train')\n",
    "validate_json_file = read_kinetics_json('validate')"
   ]
  },
  {
   "cell_type": "code",
   "execution_count": 19,
   "metadata": {},
   "outputs": [
    {
     "name": "stdout",
     "output_type": "stream",
     "text": [
      "{'---0dWlqevI': {'annotations': {'label': 'clay pottery making', 'segment': [19.0, 29.0]}, 'duration': 10.0, 'subset': 'train', 'url': 'https://www.youtube.com/watch?v=---0dWlqevI'}}\n"
     ]
    }
   ],
   "source": [
    "first_video_id = list(train_json_file.keys())[0]\n",
    "first_video_def = train_json_file[first_video_id]\n",
    "\n",
    "from json import dumps\n",
    "print({first_video_id:first_video_def})"
   ]
  },
  {
   "cell_type": "code",
   "execution_count": 26,
   "metadata": {},
   "outputs": [
    {
     "name": "stdout",
     "output_type": "stream",
     "text": [
      "<Response [200]>\n"
     ]
    }
   ],
   "source": [
    "#from pytube import YouTube\n",
    "#yt = YouTube('http://www.youtube.com/watch?v=9bZkp7q19f0')\n",
    "\n",
    "import requests\n",
    "watch_html = requests.get(url='http://www.youtube.com/watch?v=9bZkp7q19f0')\n",
    "print(watch_html)\n"
   ]
  }
 ],
 "metadata": {
  "kernelspec": {
   "display_name": "Python 3.10.2 64-bit",
   "language": "python",
   "name": "python3"
  },
  "language_info": {
   "codemirror_mode": {
    "name": "ipython",
    "version": 3
   },
   "file_extension": ".py",
   "mimetype": "text/x-python",
   "name": "python",
   "nbconvert_exporter": "python",
   "pygments_lexer": "ipython3",
   "version": "3.10.2"
  },
  "vscode": {
   "interpreter": {
    "hash": "5628284b50e4b6c9011efabc1680bd979bbb5388d9d40dd889329c704489cf65"
   }
  }
 },
 "nbformat": 4,
 "nbformat_minor": 2
}
